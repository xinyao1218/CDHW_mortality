{
 "cells": [
  {
   "cell_type": "code",
   "execution_count": 2,
   "metadata": {
    "collapsed": true
   },
   "outputs": [],
   "source": [
    "from osgeo import gdal,osr,ogr\n",
    "import cartopy.crs as ccrs\n",
    "import numpy as np\n",
    "import  matplotlib.pyplot as plt\n",
    "import xarray as xr\n",
    "import netCDF4 as nc\n",
    "import scipy as sp\n",
    "import geopandas as gpd\n",
    "import pandas as pd\n",
    "import glob\n",
    "import rasterio\n",
    "import rioxarray"
   ]
  },
  {
   "cell_type": "code",
   "execution_count": 3,
   "outputs": [],
   "source": [
    "tws_his=xr.open_dataset('spatial.nc')\n",
    "meandata=xr.open_dataset('meandata.nc')"
   ],
   "metadata": {
    "collapsed": false
   }
  },
  {
   "cell_type": "code",
   "execution_count": 6,
   "outputs": [],
   "source": [
    "tws_his.sel(time='1941-01-01').rio.to_raster('C:\\\\Users\\\\yaoxin\\\\Desktop\\\\ISIMIP3b\\\\cdhw_spatial\\\\frequency_rec_his.tif')\n",
    "tws_his.sel(time='1941-02-01').rio.to_raster('C:\\\\Users\\\\yaoxin\\\\Desktop\\\\ISIMIP3b\\\\cdhw_spatial\\\\duration_rec_his.tif')\n",
    "tws_his.sel(time='1941-03-01').rio.to_raster('C:\\\\Users\\\\yaoxin\\\\Desktop\\\\ISIMIP3b\\\\cdhw_spatial\\\\severity_rec_his.tif')\n",
    "tws_his.sel(time='1941-04-01').rio.to_raster('C:\\\\Users\\\\yaoxin\\\\Desktop\\\\ISIMIP3b\\\\cdhw_spatial\\\\frequency_nea_rec_126.tif')\n",
    "tws_his.sel(time='1941-05-01').rio.to_raster('C:\\\\Users\\\\yaoxin\\\\Desktop\\\\ISIMIP3b\\\\cdhw_spatial\\\\duration_nea_rec_126.tif')\n",
    "tws_his.sel(time='1941-06-01').rio.to_raster('C:\\\\Users\\\\yaoxin\\\\Desktop\\\\ISIMIP3b\\\\cdhw_spatial\\\\severity_nea_rec_126.tif')\n",
    "tws_his.sel(time='1941-07-01').rio.to_raster('C:\\\\Users\\\\yaoxin\\\\Desktop\\\\ISIMIP3b\\\\cdhw_spatial\\\\frequency_nea_rec_370.tif')\n",
    "tws_his.sel(time='1941-08-01').rio.to_raster('C:\\\\Users\\\\yaoxin\\\\Desktop\\\\ISIMIP3b\\\\cdhw_spatial\\\\duration_nea_rec_370.tif')\n",
    "tws_his.sel(time='1941-09-01').rio.to_raster('C:\\\\Users\\\\yaoxin\\\\Desktop\\\\ISIMIP3b\\\\cdhw_spatial\\\\severity_nea_rec_370.tif')\n",
    "tws_his.sel(time='1941-10-01').rio.to_raster('C:\\\\Users\\\\yaoxin\\\\Desktop\\\\ISIMIP3b\\\\cdhw_spatial\\\\frequency_nea_rec_585.tif')\n",
    "tws_his.sel(time='1941-11-01').rio.to_raster('C:\\\\Users\\\\yaoxin\\\\Desktop\\\\ISIMIP3b\\\\cdhw_spatial\\\\duration_nea_rec_585.tif')\n",
    "tws_his.sel(time='1941-12-01').rio.to_raster('C:\\\\Users\\\\yaoxin\\\\Desktop\\\\ISIMIP3b\\\\cdhw_spatial\\\\severity_nea_rec_585.tif')\n",
    "tws_his.sel(time='1942-01-01').rio.to_raster('C:\\\\Users\\\\yaoxin\\\\Desktop\\\\ISIMIP3b\\\\cdhw_spatial\\\\frequency_far_rec_126.tif')\n",
    "tws_his.sel(time='1942-02-01').rio.to_raster('C:\\\\Users\\\\yaoxin\\\\Desktop\\\\ISIMIP3b\\\\cdhw_spatial\\\\duration_far_rec_126.tif')\n",
    "tws_his.sel(time='1942-03-01').rio.to_raster('C:\\\\Users\\\\yaoxin\\\\Desktop\\\\ISIMIP3b\\\\cdhw_spatial\\\\severity_far_rec_126.tif')\n",
    "tws_his.sel(time='1942-04-01').rio.to_raster('C:\\\\Users\\\\yaoxin\\\\Desktop\\\\ISIMIP3b\\\\cdhw_spatial\\\\frequency_far_rec_370.tif')\n",
    "tws_his.sel(time='1942-05-01').rio.to_raster('C:\\\\Users\\\\yaoxin\\\\Desktop\\\\ISIMIP3b\\\\cdhw_spatial\\\\duration_far_rec_370.tif')\n",
    "tws_his.sel(time='1942-06-01').rio.to_raster('C:\\\\Users\\\\yaoxin\\\\Desktop\\\\ISIMIP3b\\\\cdhw_spatial\\\\severity_far_rec_370.tif')\n",
    "tws_his.sel(time='1942-07-01').rio.to_raster('C:\\\\Users\\\\yaoxin\\\\Desktop\\\\ISIMIP3b\\\\cdhw_spatial\\\\frequency_far_rec_585.tif')\n",
    "tws_his.sel(time='1942-08-01').rio.to_raster('C:\\\\Users\\\\yaoxin\\\\Desktop\\\\ISIMIP3b\\\\cdhw_spatial\\\\duration_far_rec_585.tif')\n",
    "tws_his.sel(time='1942-09-01').rio.to_raster('C:\\\\Users\\\\yaoxin\\\\Desktop\\\\ISIMIP3b\\\\cdhw_spatial\\\\severity_far_rec_585.tif')"
   ],
   "metadata": {
    "collapsed": false
   }
  },
  {
   "cell_type": "code",
   "execution_count": 7,
   "outputs": [],
   "source": [
    "meandata.sel(time='1941-01-01').rio.to_raster('C:\\\\Users\\\\yaoxin\\\\Desktop\\\\ISIMIP3b\\\\meandata\\\\his_frequency.tif')\n",
    "meandata.sel(time='1941-02-01').rio.to_raster('C:\\\\Users\\\\yaoxin\\\\Desktop\\\\ISIMIP3b\\\\meandata\\\\his_duration.tif')\n",
    "meandata.sel(time='1941-03-01').rio.to_raster('C:\\\\Users\\\\yaoxin\\\\Desktop\\\\ISIMIP3b\\\\meandata\\\\his_severity.tif')\n",
    "meandata.sel(time='1941-04-01').rio.to_raster('C:\\\\Users\\\\yaoxin\\\\Desktop\\\\ISIMIP3b\\\\meandata\\\\rec_frequency.tif')\n",
    "meandata.sel(time='1941-05-01').rio.to_raster('C:\\\\Users\\\\yaoxin\\\\Desktop\\\\ISIMIP3b\\\\meandata\\\\rec_duration.tif')\n",
    "meandata.sel(time='1941-06-01').rio.to_raster('C:\\\\Users\\\\yaoxin\\\\Desktop\\\\ISIMIP3b\\\\meandata\\\\rec_severity.tif')\n",
    "meandata.sel(time='1941-07-01').rio.to_raster('C:\\\\Users\\\\yaoxin\\\\Desktop\\\\ISIMIP3b\\\\meandata\\\\nea_126_frequency.tif')\n",
    "meandata.sel(time='1941-08-01').rio.to_raster('C:\\\\Users\\\\yaoxin\\\\Desktop\\\\ISIMIP3b\\\\meandata\\\\nea_126_duration.tif')\n",
    "meandata.sel(time='1941-09-01').rio.to_raster('C:\\\\Users\\\\yaoxin\\\\Desktop\\\\ISIMIP3b\\\\meandata\\\\nea_126_severity.tif')\n",
    "meandata.sel(time='1941-10-01').rio.to_raster('C:\\\\Users\\\\yaoxin\\\\Desktop\\\\ISIMIP3b\\\\meandata\\\\nea_370_frequency.tif')\n",
    "meandata.sel(time='1941-11-01').rio.to_raster('C:\\\\Users\\\\yaoxin\\\\Desktop\\\\ISIMIP3b\\\\meandata\\\\nea_370_duration.tif')\n",
    "meandata.sel(time='1941-12-01').rio.to_raster('C:\\\\Users\\\\yaoxin\\\\Desktop\\\\ISIMIP3b\\\\meandata\\\\nea_370_severity.tif')\n",
    "meandata.sel(time='1942-01-01').rio.to_raster('C:\\\\Users\\\\yaoxin\\\\Desktop\\\\ISIMIP3b\\\\meandata\\\\nea_585_frequency.tif')\n",
    "meandata.sel(time='1942-02-01').rio.to_raster('C:\\\\Users\\\\yaoxin\\\\Desktop\\\\ISIMIP3b\\\\meandata\\\\nea_585_duration.tif')\n",
    "meandata.sel(time='1942-03-01').rio.to_raster('C:\\\\Users\\\\yaoxin\\\\Desktop\\\\ISIMIP3b\\\\meandata\\\\nea_585_severity.tif')\n",
    "meandata.sel(time='1942-04-01').rio.to_raster('C:\\\\Users\\\\yaoxin\\\\Desktop\\\\ISIMIP3b\\\\meandata\\\\far_126_frequency.tif')\n",
    "meandata.sel(time='1942-05-01').rio.to_raster('C:\\\\Users\\\\yaoxin\\\\Desktop\\\\ISIMIP3b\\\\meandata\\\\far_126_duration.tif')\n",
    "meandata.sel(time='1942-06-01').rio.to_raster('C:\\\\Users\\\\yaoxin\\\\Desktop\\\\ISIMIP3b\\\\meandata\\\\far_126_severity.tif')\n",
    "meandata.sel(time='1942-07-01').rio.to_raster('C:\\\\Users\\\\yaoxin\\\\Desktop\\\\ISIMIP3b\\\\meandata\\\\far_370_frequency.tif')\n",
    "meandata.sel(time='1942-08-01').rio.to_raster('C:\\\\Users\\\\yaoxin\\\\Desktop\\\\ISIMIP3b\\\\meandata\\\\far_370_duration.tif')\n",
    "meandata.sel(time='1942-09-01').rio.to_raster('C:\\\\Users\\\\yaoxin\\\\Desktop\\\\ISIMIP3b\\\\meandata\\\\far_370_severity.tif')\n",
    "meandata.sel(time='1942-10-01').rio.to_raster('C:\\\\Users\\\\yaoxin\\\\Desktop\\\\ISIMIP3b\\\\meandata\\\\far_585_frequency.tif')\n",
    "meandata.sel(time='1942-11-01').rio.to_raster('C:\\\\Users\\\\yaoxin\\\\Desktop\\\\ISIMIP3b\\\\meandata\\\\far_585_duration.tif')\n",
    "meandata.sel(time='1942-12-01').rio.to_raster('C:\\\\Users\\\\yaoxin\\\\Desktop\\\\ISIMIP3b\\\\meandata\\\\far_585_severity.tif')"
   ],
   "metadata": {
    "collapsed": false
   }
  },
  {
   "cell_type": "code",
   "execution_count": null,
   "outputs": [],
   "source": [],
   "metadata": {
    "collapsed": false
   }
  }
 ],
 "metadata": {
  "kernelspec": {
   "display_name": "Python 3",
   "language": "python",
   "name": "python3"
  },
  "language_info": {
   "codemirror_mode": {
    "name": "ipython",
    "version": 2
   },
   "file_extension": ".py",
   "mimetype": "text/x-python",
   "name": "python",
   "nbconvert_exporter": "python",
   "pygments_lexer": "ipython2",
   "version": "2.7.6"
  }
 },
 "nbformat": 4,
 "nbformat_minor": 0
}
